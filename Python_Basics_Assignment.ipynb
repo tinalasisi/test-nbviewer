{
 "cells": [
  {
   "cell_type": "markdown",
   "id": "ff7bbd78",
   "metadata": {},
   "source": [
    "### Python Basics Assignment\n",
    "\n",
    "#### Objective:\n",
    "This assignment is designed to test your understanding of Python basics, including variables, data types, basic operations, and control structures. By the end of this assignment, you should be able to write simple Python code to solve problems.\n",
    "\n",
    "#### Instructions:\n",
    "- Write your code in the cells provided below each question.\n",
    "- Make sure to run all cells to test your code.\n",
    "- Submit your completed notebook as per the instructions given by your instructor.\n",
    "\n",
    "#### Assignment Questions:"
   ]
  },
  {
   "cell_type": "markdown",
   "id": "c158ae43",
   "metadata": {},
   "source": [
    "1. **Variables and Data Types**\n",
    "    - Create a variable named `age` and assign it your age.\n",
    "    - Create another variable named `name` and assign it your name.\n",
    "    - Print a sentence using these variables that follows this format: \"My name is [name] and I am [age] years old."
   ]
  },
  {
   "cell_type": "code",
   "execution_count": null,
   "id": "9a5ab0b5",
   "metadata": {},
   "outputs": [],
   "source": [
    "# Your code here\n"
   ]
  },
  {
   "cell_type": "markdown",
   "id": "6d2f714d",
   "metadata": {},
   "source": [
    "2. **Basic Operations**\n",
    "    - Calculate the sum of 123 and 456, and store the result in a variable named `result_sum`.\n",
    "    - Calculate the difference between 123 and 456, and store the result in a variable named `result_diff`.\n",
    "    - Print both results."
   ]
  },
  {
   "cell_type": "code",
   "execution_count": null,
   "id": "51e3e537",
   "metadata": {},
   "outputs": [],
   "source": [
    "# Your code here\n"
   ]
  },
  {
   "cell_type": "markdown",
   "id": "185ae5db",
   "metadata": {},
   "source": [
    "3. **Lists**\n",
    "    - Create a list named `fruits` that contains \"apple\", \"banana\", and \"cherry\".\n",
    "    - Append \"orange\" to the `fruits` list.\n",
    "    - Remove \"banana\" from the `fruits` list.\n",
    "    - Print the final `fruits` list."
   ]
  },
  {
   "cell_type": "code",
   "execution_count": null,
   "id": "2f977df5",
   "metadata": {},
   "outputs": [],
   "source": [
    "# Your code here\n"
   ]
  },
  {
   "cell_type": "markdown",
   "id": "8daa1e66",
   "metadata": {},
   "source": [
    "4. **Control Structures**\n",
    "    - Write a loop that prints all even numbers from 1 to 10 inclusive.\n",
    "    - Write an `if` statement that checks if a variable named `number` is greater than 10. If it is, print \"[number] is greater than 10\". Otherwise, print \"[number] is not greater than 10\"."
   ]
  },
  {
   "cell_type": "code",
   "execution_count": null,
   "id": "f6d3b360",
   "metadata": {},
   "outputs": [],
   "source": [
    "# Your code here\n"
   ]
  },
  {
   "cell_type": "markdown",
   "id": "f05026c1",
   "metadata": {},
   "source": [
    "5. **Functions**\n",
    "    - Define a function named `multiply` that takes two parameters and returns their product.\n",
    "    - Call this function with 10 and 5 as arguments, and print the result."
   ]
  },
  {
   "cell_type": "code",
   "execution_count": null,
   "id": "f49c8b7b",
   "metadata": {},
   "outputs": [],
   "source": [
    "# Your code here\n"
   ]
  },
  {
   "cell_type": "markdown",
   "id": "0e7d9720",
   "metadata": {},
   "source": [
    "#### Good Luck!"
   ]
  }
 ],
 "metadata": {},
 "nbformat": 4,
 "nbformat_minor": 5
}
